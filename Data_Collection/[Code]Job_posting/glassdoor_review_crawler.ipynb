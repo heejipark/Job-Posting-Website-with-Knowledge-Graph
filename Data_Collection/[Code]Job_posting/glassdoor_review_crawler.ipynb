{
 "cells": [
  {
   "cell_type": "code",
   "execution_count": 1,
   "metadata": {},
   "outputs": [],
   "source": [
    "from selenium.common.exceptions import NoSuchElementException, ElementClickInterceptedException, ElementNotInteractableException, StaleElementReferenceException\n",
    "from selenium import webdriver\n",
    "\n",
    "from selenium.webdriver.chrome.service import Service as ChromeService\n",
    "from webdriver_manager.chrome import ChromeDriverManager\n",
    "from selenium.webdriver.common.by import By\n",
    "from selenium.webdriver.support.ui import WebDriverWait\n",
    "from selenium.webdriver.support import expected_conditions as EC\n",
    "import time\n",
    "import pandas as pd\n",
    "import random\n",
    "import re"
   ]
  },
  {
   "cell_type": "code",
   "execution_count": 2,
   "metadata": {},
   "outputs": [],
   "source": [
    "driver = webdriver.Chrome(service=ChromeService(ChromeDriverManager().install()))\n",
    "driver.set_window_size(1120, 1000)"
   ]
  },
  {
   "cell_type": "code",
   "execution_count": 12,
   "metadata": {},
   "outputs": [],
   "source": [
    "def get_reviews(company_name):\n",
    "    url = 'https://www.glassdoor.com/Reviews/index.htm'\n",
    "    driver.get(url)\n",
    "    while True:\n",
    "        try:\n",
    "            search_input = driver.find_element(By.XPATH, \"//input[@placeholder='Search for a Company']\")\n",
    "            search_button = driver.find_element(By.XPATH, \"//button[@aria-label='Search']\")\n",
    "            search_input.send_keys(company_name)\n",
    "            search_button.click()\n",
    "            break\n",
    "        except NoSuchElementException:\n",
    "            driver.get(url)\n",
    "\n",
    "    time.sleep(1)\n",
    "    # always click the first result link\n",
    "    try:\n",
    "        company_link = driver.find_elements(By.XPATH, \"//div[@id='Discover']//a[@data-test='company-tile']\")[0]\n",
    "        company_link.click()\n",
    "    except (NoSuchElementException, IndexError) as error:\n",
    "        return None, None\n",
    "    \n",
    "    time.sleep(1)\n",
    "    # may pop up survy window\n",
    "    try:\n",
    "        close_btn = driver.find_element(By.XPATH, \"//div[@class='qual_x_close']\")\n",
    "        close_btn.click()\n",
    "    except NoSuchElementException:\n",
    "        pass\n",
    "    \n",
    "    trial_count = 0\n",
    "    while trial_count < 10:\n",
    "        try:\n",
    "            reviews_link = driver.find_element(By.XPATH, \"//a[@data-label='Reviews']\")\n",
    "            reviews_link.click()\n",
    "        except (NoSuchElementException, StaleElementReferenceException) as error:\n",
    "            trial_count += 1\n",
    "\n",
    "\n",
    "    time.sleep(1)\n",
    "\n",
    "    need_crawl = True\n",
    "    while need_crawl:\n",
    "        try:\n",
    "            see_more_button = driver.find_element(By.XPATH, \"//button[@data-test='highlights-toggle-link']\")\n",
    "            see_more_button.click()\n",
    "            pros = driver.find_elements(By.XPATH, \"//li[@data-term-type='PRO']\")\n",
    "            review_pros = []\n",
    "            for pro in pros:\n",
    "                review_pros.append(pro.text.strip())\n",
    "            # print(review_pros)\n",
    "            cons = driver.find_elements(By.XPATH, \"//li[@data-term-type='CON']\")\n",
    "            review_cons = []\n",
    "            for con in cons:\n",
    "                review_cons.append(con.text.strip())\n",
    "            need_crawl = False\n",
    "            return review_pros, review_cons\n",
    "            # print(review_cons)\n",
    "        except (NoSuchElementException, StaleElementReferenceException) as error:\n",
    "            try:\n",
    "                close_btn = driver.find_element(By.XPATH, \"//div[@class='qual_x_close']\")\n",
    "                close_btn.click()\n",
    "            except NoSuchElementException:\n",
    "                need_crawl = False\n",
    "                pass\n",
    "    return None, None"
   ]
  },
  {
   "cell_type": "code",
   "execution_count": 13,
   "metadata": {},
   "outputs": [],
   "source": [
    "with open('data/companies.csv','r') as fh:\n",
    "    company_list = []\n",
    "    lines = fh.readlines()\n",
    "    for line in lines[1:]:\n",
    "        company_list.append(line.split(',')[1])\n",
    "\n",
    "all_reviews_list = []\n",
    "for company in company_list[100:200]:\n",
    "    pros, cons = get_reviews(company)\n",
    "    review_dict = {'name': company, 'Pros': pros, 'Cons': cons}\n",
    "    all_reviews_list.append(review_dict)"
   ]
  },
  {
   "cell_type": "code",
   "execution_count": 15,
   "metadata": {},
   "outputs": [],
   "source": [
    "all_reviews_list_4 = []\n",
    "for company in company_list[300:400]:\n",
    "    pros, cons = get_reviews(company)\n",
    "    review_dict = {'name': company, 'Pros': pros, 'Cons': cons}\n",
    "    all_reviews_list_4.append(review_dict)"
   ]
  },
  {
   "cell_type": "code",
   "execution_count": 16,
   "metadata": {},
   "outputs": [],
   "source": [
    "pd.DataFrame(all_reviews_list_4).to_csv('./glassdoor_reviews/reviews_300_399.csv')"
   ]
  }
 ],
 "metadata": {
  "kernelspec": {
   "display_name": "Python 3.9.12 64-bit ('anaconda3')",
   "language": "python",
   "name": "python3"
  },
  "language_info": {
   "codemirror_mode": {
    "name": "ipython",
    "version": 3
   },
   "file_extension": ".py",
   "mimetype": "text/x-python",
   "name": "python",
   "nbconvert_exporter": "python",
   "pygments_lexer": "ipython3",
   "version": "3.9.12"
  },
  "orig_nbformat": 4,
  "vscode": {
   "interpreter": {
    "hash": "a4d47218a8e022334151235867a278f0c38d0e926f731c3545fe924711bb8eee"
   }
  }
 },
 "nbformat": 4,
 "nbformat_minor": 2
}
