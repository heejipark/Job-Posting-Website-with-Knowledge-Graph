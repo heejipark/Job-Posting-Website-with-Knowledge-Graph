{
 "cells": [
  {
   "cell_type": "code",
   "execution_count": 65,
   "metadata": {},
   "outputs": [],
   "source": [
    "# Two compulsory library:\n",
    "# 1. selenium\n",
    "# 2. webdriver_manager\n",
    "# selenium 4\n",
    "from selenium import webdriver\n",
    "from selenium.webdriver.chrome.service import Service as ChromeService\n",
    "from webdriver_manager.chrome import ChromeDriverManager\n",
    "from selenium.webdriver.common.by import By\n",
    "\n",
    "driver = webdriver.Chrome(service=ChromeService(ChromeDriverManager().install()))"
   ]
  },
  {
   "cell_type": "code",
   "execution_count": 67,
   "metadata": {},
   "outputs": [],
   "source": [
    "import pandas as pd"
   ]
  },
  {
   "cell_type": "code",
   "execution_count": 66,
   "metadata": {},
   "outputs": [],
   "source": [
    "url = 'https://www.zyxware.com/articles/4344/list-of-fortune-500-companies-and-their-websites'\n",
    "driver.get(url)"
   ]
  },
  {
   "cell_type": "code",
   "execution_count": 70,
   "metadata": {},
   "outputs": [
    {
     "name": "stdout",
     "output_type": "stream",
     "text": [
      "500\n"
     ]
    }
   ],
   "source": [
    "company_list = []\n",
    "temp_list = []\n",
    "\n",
    "for element in driver.find_elements(by=By.XPATH, value=\"//div[@class='table-responsive']/table/tbody/tr//td\")[3:]:\n",
    "    if element.text.isdigit():\n",
    "        if len(temp_list) != 0:\n",
    "            company_list.append(temp_list)\n",
    "            temp_list = []\n",
    "        temp_list.append(int(element.text))\n",
    "    else:\n",
    "        temp_list.append(element.text)\n",
    "company_list.append(temp_list)\n",
    "print(len(company_list))"
   ]
  },
  {
   "cell_type": "code",
   "execution_count": 72,
   "metadata": {},
   "outputs": [],
   "source": [
    "# write to pandas\n",
    "company_df = pd.DataFrame(company_list, columns=[\"rank\", \"company\", \"website\"])\n",
    "company_df.to_csv(\"./data/companies.csv\", header=\"true\", index=False)\n"
   ]
  }
 ],
 "metadata": {
  "kernelspec": {
   "display_name": "Python 3 (ipykernel)",
   "language": "python",
   "name": "python3"
  },
  "language_info": {
   "codemirror_mode": {
    "name": "ipython",
    "version": 3
   },
   "file_extension": ".py",
   "mimetype": "text/x-python",
   "name": "python",
   "nbconvert_exporter": "python",
   "pygments_lexer": "ipython3",
   "version": "3.9.12"
  },
  "vscode": {
   "interpreter": {
    "hash": "a4d47218a8e022334151235867a278f0c38d0e926f731c3545fe924711bb8eee"
   }
  }
 },
 "nbformat": 4,
 "nbformat_minor": 2
}
