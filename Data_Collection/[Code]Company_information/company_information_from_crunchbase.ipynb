{
 "cells": [
  {
   "cell_type": "code",
   "execution_count": 1,
   "id": "61c14f34",
   "metadata": {},
   "outputs": [
    {
     "data": {
      "text/html": [
       "<div>\n",
       "<style scoped>\n",
       "    .dataframe tbody tr th:only-of-type {\n",
       "        vertical-align: middle;\n",
       "    }\n",
       "\n",
       "    .dataframe tbody tr th {\n",
       "        vertical-align: top;\n",
       "    }\n",
       "\n",
       "    .dataframe thead th {\n",
       "        text-align: right;\n",
       "    }\n",
       "</style>\n",
       "<table border=\"1\" class=\"dataframe\">\n",
       "  <thead>\n",
       "    <tr style=\"text-align: right;\">\n",
       "      <th></th>\n",
       "      <th>company</th>\n",
       "      <th>url</th>\n",
       "      <th>crunch_url</th>\n",
       "    </tr>\n",
       "  </thead>\n",
       "  <tbody>\n",
       "    <tr>\n",
       "      <th>0</th>\n",
       "      <td>Walmart</td>\n",
       "      <td>https://www.crunchbase.com/organization/walmart</td>\n",
       "      <td>walmart</td>\n",
       "    </tr>\n",
       "    <tr>\n",
       "      <th>1</th>\n",
       "      <td>Amazon</td>\n",
       "      <td>https://www.crunchbase.com/organization/amazon</td>\n",
       "      <td>amazon</td>\n",
       "    </tr>\n",
       "    <tr>\n",
       "      <th>2</th>\n",
       "      <td>Apple</td>\n",
       "      <td>https://www.crunchbase.com/organization/apple</td>\n",
       "      <td>apple</td>\n",
       "    </tr>\n",
       "    <tr>\n",
       "      <th>3</th>\n",
       "      <td>CVS Health</td>\n",
       "      <td>https://www.crunchbase.com/organization/cvs-ca...</td>\n",
       "      <td>cvs-caremark</td>\n",
       "    </tr>\n",
       "    <tr>\n",
       "      <th>4</th>\n",
       "      <td>UnitedHealth Group</td>\n",
       "      <td>https://www.crunchbase.com/organization/united...</td>\n",
       "      <td>unitedhealth-group</td>\n",
       "    </tr>\n",
       "    <tr>\n",
       "      <th>...</th>\n",
       "      <td>...</td>\n",
       "      <td>...</td>\n",
       "      <td>...</td>\n",
       "    </tr>\n",
       "    <tr>\n",
       "      <th>495</th>\n",
       "      <td>Hasbro</td>\n",
       "      <td>https://www.crunchbase.com/organization/hasbro...</td>\n",
       "      <td>hasbro-inc</td>\n",
       "    </tr>\n",
       "    <tr>\n",
       "      <th>496</th>\n",
       "      <td>Roper Technologies</td>\n",
       "      <td>https://www.crunchbase.com/organization/roper-...</td>\n",
       "      <td>roper-industries</td>\n",
       "    </tr>\n",
       "    <tr>\n",
       "      <th>497</th>\n",
       "      <td>ARKO</td>\n",
       "      <td>https://www.crunchbase.com/organization/arko-3d08</td>\n",
       "      <td>arko-3d08</td>\n",
       "    </tr>\n",
       "    <tr>\n",
       "      <th>498</th>\n",
       "      <td>Frontier Communications</td>\n",
       "      <td>https://www.crunchbase.com/organization/fronti...</td>\n",
       "      <td>frontier-communications-corporation</td>\n",
       "    </tr>\n",
       "    <tr>\n",
       "      <th>499</th>\n",
       "      <td>Ameren</td>\n",
       "      <td>https://www.crunchbase.com/organization/ameren</td>\n",
       "      <td>ameren</td>\n",
       "    </tr>\n",
       "  </tbody>\n",
       "</table>\n",
       "<p>500 rows × 3 columns</p>\n",
       "</div>"
      ],
      "text/plain": [
       "                     company  \\\n",
       "0                    Walmart   \n",
       "1                     Amazon   \n",
       "2                      Apple   \n",
       "3                 CVS Health   \n",
       "4         UnitedHealth Group   \n",
       "..                       ...   \n",
       "495                   Hasbro   \n",
       "496       Roper Technologies   \n",
       "497                     ARKO   \n",
       "498  Frontier Communications   \n",
       "499                   Ameren   \n",
       "\n",
       "                                                   url  \\\n",
       "0      https://www.crunchbase.com/organization/walmart   \n",
       "1       https://www.crunchbase.com/organization/amazon   \n",
       "2        https://www.crunchbase.com/organization/apple   \n",
       "3    https://www.crunchbase.com/organization/cvs-ca...   \n",
       "4    https://www.crunchbase.com/organization/united...   \n",
       "..                                                 ...   \n",
       "495  https://www.crunchbase.com/organization/hasbro...   \n",
       "496  https://www.crunchbase.com/organization/roper-...   \n",
       "497  https://www.crunchbase.com/organization/arko-3d08   \n",
       "498  https://www.crunchbase.com/organization/fronti...   \n",
       "499     https://www.crunchbase.com/organization/ameren   \n",
       "\n",
       "                              crunch_url  \n",
       "0                                walmart  \n",
       "1                                 amazon  \n",
       "2                                  apple  \n",
       "3                           cvs-caremark  \n",
       "4                     unitedhealth-group  \n",
       "..                                   ...  \n",
       "495                           hasbro-inc  \n",
       "496                     roper-industries  \n",
       "497                            arko-3d08  \n",
       "498  frontier-communications-corporation  \n",
       "499                               ameren  \n",
       "\n",
       "[500 rows x 3 columns]"
      ]
     },
     "execution_count": 1,
     "metadata": {},
     "output_type": "execute_result"
    }
   ],
   "source": [
    "import pandas as pd\n",
    "import json\n",
    "import sys\n",
    "import re\n",
    "from bs4 import BeautifulSoup\n",
    "import time\n",
    "from PyQt5.QtWidgets import QApplication\n",
    "from PyQt5.QtCore import QUrl\n",
    "from PyQt5.QtWebEngineWidgets import QWebEnginePage\n",
    "import warnings\n",
    "warnings.filterwarnings('ignore')\n",
    "\n",
    "urls = pd.read_csv('./data/crunchbase_url.csv', index_col=[0])\n",
    "urls['crunch_url'] = urls['url'].str.replace('https://www.crunchbase.com/organization/','')\n",
    "urls"
   ]
  },
  {
   "cell_type": "code",
   "execution_count": null,
   "id": "89438bd7",
   "metadata": {},
   "outputs": [
    {
     "name": "stdout",
     "output_type": "stream",
     "text": [
      "\u001b[92m0 Checking walmart alias walmart\u001b[0m\n"
     ]
    },
    {
     "name": "stderr",
     "output_type": "stream",
     "text": [
      "js: Failed to set referrer policy: The value 'same-origin' is not one of 'no-referrer', 'no-referrer-when-downgrade', 'origin', 'origin-when-cross-origin', or 'unsafe-url'. The referrer policy has been left unchanged.\n"
     ]
    },
    {
     "name": "stdout",
     "output_type": "stream",
     "text": [
      "\u001b[92m1 Checking amazon alias amazon\u001b[0m\n"
     ]
    },
    {
     "name": "stderr",
     "output_type": "stream",
     "text": [
      "js: Failed to set referrer policy: The value 'same-origin' is not one of 'no-referrer', 'no-referrer-when-downgrade', 'origin', 'origin-when-cross-origin', or 'unsafe-url'. The referrer policy has been left unchanged.\n"
     ]
    },
    {
     "name": "stdout",
     "output_type": "stream",
     "text": [
      "\u001b[92m2 Checking apple alias apple\u001b[0m\n"
     ]
    },
    {
     "name": "stderr",
     "output_type": "stream",
     "text": [
      "js: Failed to set referrer policy: The value 'same-origin' is not one of 'no-referrer', 'no-referrer-when-downgrade', 'origin', 'origin-when-cross-origin', or 'unsafe-url'. The referrer policy has been left unchanged.\n"
     ]
    },
    {
     "name": "stdout",
     "output_type": "stream",
     "text": [
      "\u001b[92m3 Checking cvs-caremark alias cvs-caremark\u001b[0m\n"
     ]
    },
    {
     "name": "stderr",
     "output_type": "stream",
     "text": [
      "js: Failed to set referrer policy: The value 'same-origin' is not one of 'no-referrer', 'no-referrer-when-downgrade', 'origin', 'origin-when-cross-origin', or 'unsafe-url'. The referrer policy has been left unchanged.\n"
     ]
    },
    {
     "name": "stdout",
     "output_type": "stream",
     "text": [
      "\u001b[92m4 Checking unitedhealth-group alias unitedhealth-group\u001b[0m\n"
     ]
    },
    {
     "name": "stderr",
     "output_type": "stream",
     "text": [
      "js: Failed to set referrer policy: The value 'same-origin' is not one of 'no-referrer', 'no-referrer-when-downgrade', 'origin', 'origin-when-cross-origin', or 'unsafe-url'. The referrer policy has been left unchanged.\n"
     ]
    },
    {
     "name": "stdout",
     "output_type": "stream",
     "text": [
      "\u001b[92m5 Checking exxonmobil alias exxonmobil\u001b[0m\n"
     ]
    },
    {
     "name": "stderr",
     "output_type": "stream",
     "text": [
      "js: Failed to set referrer policy: The value 'same-origin' is not one of 'no-referrer', 'no-referrer-when-downgrade', 'origin', 'origin-when-cross-origin', or 'unsafe-url'. The referrer policy has been left unchanged.\n"
     ]
    },
    {
     "name": "stdout",
     "output_type": "stream",
     "text": [
      "\u001b[92m6 Checking berkshire-hathaway-corp alias berkshire-hathaway-corp\u001b[0m\n"
     ]
    },
    {
     "name": "stderr",
     "output_type": "stream",
     "text": [
      "js: Failed to set referrer policy: The value 'same-origin' is not one of 'no-referrer', 'no-referrer-when-downgrade', 'origin', 'origin-when-cross-origin', or 'unsafe-url'. The referrer policy has been left unchanged.\n"
     ]
    },
    {
     "name": "stdout",
     "output_type": "stream",
     "text": [
      "\u001b[92m7 Checking alphabet alias alphabet\u001b[0m\n"
     ]
    },
    {
     "name": "stderr",
     "output_type": "stream",
     "text": [
      "js: Failed to set referrer policy: The value 'same-origin' is not one of 'no-referrer', 'no-referrer-when-downgrade', 'origin', 'origin-when-cross-origin', or 'unsafe-url'. The referrer policy has been left unchanged.\n"
     ]
    },
    {
     "name": "stdout",
     "output_type": "stream",
     "text": [
      "\u001b[92m8 Checking mckesson alias mckesson\u001b[0m\n"
     ]
    },
    {
     "name": "stderr",
     "output_type": "stream",
     "text": [
      "js: Failed to set referrer policy: The value 'same-origin' is not one of 'no-referrer', 'no-referrer-when-downgrade', 'origin', 'origin-when-cross-origin', or 'unsafe-url'. The referrer policy has been left unchanged.\n"
     ]
    },
    {
     "name": "stdout",
     "output_type": "stream",
     "text": [
      "\u001b[92m9 Checking amerisourcebergen-corporation alias amerisourcebergen-corporation\u001b[0m\n"
     ]
    },
    {
     "name": "stderr",
     "output_type": "stream",
     "text": [
      "js: Failed to set referrer policy: The value 'same-origin' is not one of 'no-referrer', 'no-referrer-when-downgrade', 'origin', 'origin-when-cross-origin', or 'unsafe-url'. The referrer policy has been left unchanged.\n"
     ]
    },
    {
     "name": "stdout",
     "output_type": "stream",
     "text": [
      "\u001b[92m10 Checking costco alias costco\u001b[0m\n"
     ]
    },
    {
     "name": "stderr",
     "output_type": "stream",
     "text": [
      "js: Failed to set referrer policy: The value 'same-origin' is not one of 'no-referrer', 'no-referrer-when-downgrade', 'origin', 'origin-when-cross-origin', or 'unsafe-url'. The referrer policy has been left unchanged.\n"
     ]
    },
    {
     "name": "stdout",
     "output_type": "stream",
     "text": [
      "\u001b[92m11 Checking cigna alias cigna\u001b[0m\n"
     ]
    },
    {
     "name": "stderr",
     "output_type": "stream",
     "text": [
      "js: Failed to set referrer policy: The value 'same-origin' is not one of 'no-referrer', 'no-referrer-when-downgrade', 'origin', 'origin-when-cross-origin', or 'unsafe-url'. The referrer policy has been left unchanged.\n"
     ]
    },
    {
     "name": "stdout",
     "output_type": "stream",
     "text": [
      "\u001b[92m12 Checking at-t alias at-t\u001b[0m\n"
     ]
    },
    {
     "name": "stderr",
     "output_type": "stream",
     "text": [
      "js: Failed to set referrer policy: The value 'same-origin' is not one of 'no-referrer', 'no-referrer-when-downgrade', 'origin', 'origin-when-cross-origin', or 'unsafe-url'. The referrer policy has been left unchanged.\n"
     ]
    },
    {
     "name": "stdout",
     "output_type": "stream",
     "text": [
      "\u001b[92m13 Checking microsoft alias microsoft\u001b[0m\n"
     ]
    },
    {
     "name": "stderr",
     "output_type": "stream",
     "text": [
      "js: Failed to set referrer policy: The value 'same-origin' is not one of 'no-referrer', 'no-referrer-when-downgrade', 'origin', 'origin-when-cross-origin', or 'unsafe-url'. The referrer policy has been left unchanged.\n"
     ]
    },
    {
     "name": "stdout",
     "output_type": "stream",
     "text": [
      "\u001b[92m14 Checking cardinal-health alias cardinal-health\u001b[0m\n"
     ]
    },
    {
     "name": "stderr",
     "output_type": "stream",
     "text": [
      "js: Failed to set referrer policy: The value 'same-origin' is not one of 'no-referrer', 'no-referrer-when-downgrade', 'origin', 'origin-when-cross-origin', or 'unsafe-url'. The referrer policy has been left unchanged.\n"
     ]
    },
    {
     "name": "stdout",
     "output_type": "stream",
     "text": [
      "\u001b[92m15 Checking chevron alias chevron\u001b[0m\n"
     ]
    },
    {
     "name": "stderr",
     "output_type": "stream",
     "text": [
      "js: Failed to set referrer policy: The value 'same-origin' is not one of 'no-referrer', 'no-referrer-when-downgrade', 'origin', 'origin-when-cross-origin', or 'unsafe-url'. The referrer policy has been left unchanged.\n"
     ]
    },
    {
     "name": "stdout",
     "output_type": "stream",
     "text": [
      "\u001b[92m16 Checking the-home-depot-corporate alias the-home-depot-corporate\u001b[0m\n"
     ]
    },
    {
     "name": "stderr",
     "output_type": "stream",
     "text": [
      "js: Failed to set referrer policy: The value 'same-origin' is not one of 'no-referrer', 'no-referrer-when-downgrade', 'origin', 'origin-when-cross-origin', or 'unsafe-url'. The referrer policy has been left unchanged.\n"
     ]
    },
    {
     "name": "stdout",
     "output_type": "stream",
     "text": [
      "\u001b[92m17 Checking walgreens-boots-alliance alias walgreens-boots-alliance\u001b[0m\n"
     ]
    },
    {
     "name": "stderr",
     "output_type": "stream",
     "text": [
      "js: Failed to set referrer policy: The value 'same-origin' is not one of 'no-referrer', 'no-referrer-when-downgrade', 'origin', 'origin-when-cross-origin', or 'unsafe-url'. The referrer policy has been left unchanged.\n"
     ]
    },
    {
     "name": "stdout",
     "output_type": "stream",
     "text": [
      "\u001b[92m18 Checking marathon-petroleum alias marathon-petroleum\u001b[0m\n"
     ]
    },
    {
     "name": "stderr",
     "output_type": "stream",
     "text": [
      "js: Failed to set referrer policy: The value 'same-origin' is not one of 'no-referrer', 'no-referrer-when-downgrade', 'origin', 'origin-when-cross-origin', or 'unsafe-url'. The referrer policy has been left unchanged.\n"
     ]
    },
    {
     "name": "stdout",
     "output_type": "stream",
     "text": [
      "\u001b[92m19 Checking elevance-health alias elevance-health\u001b[0m\n"
     ]
    },
    {
     "name": "stderr",
     "output_type": "stream",
     "text": [
      "js: Failed to set referrer policy: The value 'same-origin' is not one of 'no-referrer', 'no-referrer-when-downgrade', 'origin', 'origin-when-cross-origin', or 'unsafe-url'. The referrer policy has been left unchanged.\n"
     ]
    },
    {
     "name": "stdout",
     "output_type": "stream",
     "text": [
      "\u001b[92m20 Checking kroger alias kroger\u001b[0m\n"
     ]
    },
    {
     "name": "stderr",
     "output_type": "stream",
     "text": [
      "js: Failed to set referrer policy: The value 'same-origin' is not one of 'no-referrer', 'no-referrer-when-downgrade', 'origin', 'origin-when-cross-origin', or 'unsafe-url'. The referrer policy has been left unchanged.\n"
     ]
    },
    {
     "name": "stdout",
     "output_type": "stream",
     "text": [
      "\u001b[92m21 Checking ford alias ford\u001b[0m\n"
     ]
    },
    {
     "name": "stderr",
     "output_type": "stream",
     "text": [
      "js: Failed to set referrer policy: The value 'same-origin' is not one of 'no-referrer', 'no-referrer-when-downgrade', 'origin', 'origin-when-cross-origin', or 'unsafe-url'. The referrer policy has been left unchanged.\n"
     ]
    },
    {
     "name": "stdout",
     "output_type": "stream",
     "text": [
      "\u001b[92m22 Checking verizon-communications alias verizon-communications\u001b[0m\n"
     ]
    },
    {
     "name": "stderr",
     "output_type": "stream",
     "text": [
      "js: Failed to set referrer policy: The value 'same-origin' is not one of 'no-referrer', 'no-referrer-when-downgrade', 'origin', 'origin-when-cross-origin', or 'unsafe-url'. The referrer policy has been left unchanged.\n"
     ]
    },
    {
     "name": "stdout",
     "output_type": "stream",
     "text": [
      "\u001b[92m23 Checking jpmorgan-chase-co alias jpmorgan-chase-co\u001b[0m\n"
     ]
    },
    {
     "name": "stderr",
     "output_type": "stream",
     "text": [
      "js: Failed to set referrer policy: The value 'same-origin' is not one of 'no-referrer', 'no-referrer-when-downgrade', 'origin', 'origin-when-cross-origin', or 'unsafe-url'. The referrer policy has been left unchanged.\n",
      "js: Uncaught SyntaxError: Unexpected token ...\n",
      "js: Uncaught SyntaxError: Unexpected token ...\n",
      "js: Uncaught SyntaxError: Unexpected token ...\n",
      "js: Uncaught SyntaxError: Unexpected token ...\n",
      "js: Uncaught SyntaxError: Unexpected token ...\n",
      "js: Uncaught SyntaxError: Unexpected token ...\n",
      "js: Uncaught SyntaxError: Unexpected token ...\n",
      "js: Uncaught SyntaxError: Unexpected token ...\n"
     ]
    },
    {
     "name": "stdout",
     "output_type": "stream",
     "text": [
      "No IPO status\n",
      "\u001b[92m24 Checking general-motors alias general-motors\u001b[0m\n"
     ]
    },
    {
     "name": "stderr",
     "output_type": "stream",
     "text": [
      "js: Failed to set referrer policy: The value 'same-origin' is not one of 'no-referrer', 'no-referrer-when-downgrade', 'origin', 'origin-when-cross-origin', or 'unsafe-url'. The referrer policy has been left unchanged.\n"
     ]
    },
    {
     "name": "stdout",
     "output_type": "stream",
     "text": [
      "\u001b[92m25 Checking centene-corporation alias centene-corporation\u001b[0m\n"
     ]
    },
    {
     "name": "stderr",
     "output_type": "stream",
     "text": [
      "js: Failed to set referrer policy: The value 'same-origin' is not one of 'no-referrer', 'no-referrer-when-downgrade', 'origin', 'origin-when-cross-origin', or 'unsafe-url'. The referrer policy has been left unchanged.\n"
     ]
    },
    {
     "name": "stdout",
     "output_type": "stream",
     "text": [
      "\u001b[92m26 Checking facebook alias facebook\u001b[0m\n"
     ]
    },
    {
     "name": "stderr",
     "output_type": "stream",
     "text": [
      "js: Failed to set referrer policy: The value 'same-origin' is not one of 'no-referrer', 'no-referrer-when-downgrade', 'origin', 'origin-when-cross-origin', or 'unsafe-url'. The referrer policy has been left unchanged.\n"
     ]
    },
    {
     "name": "stdout",
     "output_type": "stream",
     "text": [
      "\u001b[92m27 Checking comcast alias comcast\u001b[0m\n"
     ]
    },
    {
     "name": "stderr",
     "output_type": "stream",
     "text": [
      "js: Failed to set referrer policy: The value 'same-origin' is not one of 'no-referrer', 'no-referrer-when-downgrade', 'origin', 'origin-when-cross-origin', or 'unsafe-url'. The referrer policy has been left unchanged.\n"
     ]
    },
    {
     "name": "stdout",
     "output_type": "stream",
     "text": [
      "\u001b[92m28 Checking phillips-66-2 alias phillips-66-2\u001b[0m\n"
     ]
    },
    {
     "name": "stderr",
     "output_type": "stream",
     "text": [
      "js: Failed to set referrer policy: The value 'same-origin' is not one of 'no-referrer', 'no-referrer-when-downgrade', 'origin', 'origin-when-cross-origin', or 'unsafe-url'. The referrer policy has been left unchanged.\n"
     ]
    },
    {
     "name": "stdout",
     "output_type": "stream",
     "text": [
      "\u001b[92m29 Checking valero-energy alias valero-energy\u001b[0m\n"
     ]
    },
    {
     "name": "stderr",
     "output_type": "stream",
     "text": [
      "js: Failed to set referrer policy: The value 'same-origin' is not one of 'no-referrer', 'no-referrer-when-downgrade', 'origin', 'origin-when-cross-origin', or 'unsafe-url'. The referrer policy has been left unchanged.\n"
     ]
    },
    {
     "name": "stdout",
     "output_type": "stream",
     "text": [
      "\u001b[92m30 Checking dell-technologies alias dell-technologies\u001b[0m\n"
     ]
    },
    {
     "name": "stderr",
     "output_type": "stream",
     "text": [
      "js: Failed to set referrer policy: The value 'same-origin' is not one of 'no-referrer', 'no-referrer-when-downgrade', 'origin', 'origin-when-cross-origin', or 'unsafe-url'. The referrer policy has been left unchanged.\n"
     ]
    },
    {
     "name": "stdout",
     "output_type": "stream",
     "text": [
      "No IPO status\n",
      "No contact information\n",
      "\u001b[92m31 Checking target alias target\u001b[0m\n"
     ]
    },
    {
     "name": "stderr",
     "output_type": "stream",
     "text": [
      "js: Failed to set referrer policy: The value 'same-origin' is not one of 'no-referrer', 'no-referrer-when-downgrade', 'origin', 'origin-when-cross-origin', or 'unsafe-url'. The referrer policy has been left unchanged.\n"
     ]
    },
    {
     "name": "stdout",
     "output_type": "stream",
     "text": [
      "\u001b[92m32 Checking fannie-mae alias fannie-mae\u001b[0m\n"
     ]
    },
    {
     "name": "stderr",
     "output_type": "stream",
     "text": [
      "js: Failed to set referrer policy: The value 'same-origin' is not one of 'no-referrer', 'no-referrer-when-downgrade', 'origin', 'origin-when-cross-origin', or 'unsafe-url'. The referrer policy has been left unchanged.\n"
     ]
    },
    {
     "name": "stdout",
     "output_type": "stream",
     "text": [
      "\u001b[92m33 Checking united-parcel-service alias united-parcel-service\u001b[0m\n"
     ]
    },
    {
     "name": "stderr",
     "output_type": "stream",
     "text": [
      "js: Failed to set referrer policy: The value 'same-origin' is not one of 'no-referrer', 'no-referrer-when-downgrade', 'origin', 'origin-when-cross-origin', or 'unsafe-url'. The referrer policy has been left unchanged.\n"
     ]
    },
    {
     "name": "stdout",
     "output_type": "stream",
     "text": [
      "\u001b[92m34 Checking lowes alias lowes\u001b[0m\n"
     ]
    },
    {
     "name": "stderr",
     "output_type": "stream",
     "text": [
      "js: Failed to set referrer policy: The value 'same-origin' is not one of 'no-referrer', 'no-referrer-when-downgrade', 'origin', 'origin-when-cross-origin', or 'unsafe-url'. The referrer policy has been left unchanged.\n"
     ]
    },
    {
     "name": "stdout",
     "output_type": "stream",
     "text": [
      "\u001b[92m35 Checking bank-of-america alias bank-of-america\u001b[0m\n"
     ]
    },
    {
     "name": "stderr",
     "output_type": "stream",
     "text": [
      "js: Failed to set referrer policy: The value 'same-origin' is not one of 'no-referrer', 'no-referrer-when-downgrade', 'origin', 'origin-when-cross-origin', or 'unsafe-url'. The referrer policy has been left unchanged.\n",
      "js: Uncaught SyntaxError: Unexpected token ...\n",
      "js: Uncaught SyntaxError: Unexpected token ...\n",
      "js: Uncaught SyntaxError: Unexpected token ...\n",
      "js: Uncaught SyntaxError: Unexpected token ...\n",
      "js: Uncaught SyntaxError: Unexpected token ...\n",
      "js: Uncaught SyntaxError: Unexpected token ...\n",
      "js: Uncaught SyntaxError: Unexpected token ...\n",
      "js: Uncaught SyntaxError: Unexpected token ...\n"
     ]
    },
    {
     "name": "stdout",
     "output_type": "stream",
     "text": [
      "No IPO status\n",
      "\u001b[92m36 Checking johnson-johnson alias johnson-johnson\u001b[0m\n"
     ]
    },
    {
     "name": "stderr",
     "output_type": "stream",
     "text": [
      "js: Failed to set referrer policy: The value 'same-origin' is not one of 'no-referrer', 'no-referrer-when-downgrade', 'origin', 'origin-when-cross-origin', or 'unsafe-url'. The referrer policy has been left unchanged.\n"
     ]
    },
    {
     "name": "stdout",
     "output_type": "stream",
     "text": [
      "\u001b[92m37 Checking archer-daniels-midland-company alias archer-daniels-midland-company\u001b[0m\n"
     ]
    },
    {
     "name": "stderr",
     "output_type": "stream",
     "text": [
      "js: Failed to set referrer policy: The value 'same-origin' is not one of 'no-referrer', 'no-referrer-when-downgrade', 'origin', 'origin-when-cross-origin', or 'unsafe-url'. The referrer policy has been left unchanged.\n"
     ]
    },
    {
     "name": "stdout",
     "output_type": "stream",
     "text": [
      "\u001b[92m38 Checking fedex alias fedex\u001b[0m\n"
     ]
    },
    {
     "name": "stderr",
     "output_type": "stream",
     "text": [
      "js: Failed to set referrer policy: The value 'same-origin' is not one of 'no-referrer', 'no-referrer-when-downgrade', 'origin', 'origin-when-cross-origin', or 'unsafe-url'. The referrer policy has been left unchanged.\n"
     ]
    },
    {
     "name": "stdout",
     "output_type": "stream",
     "text": [
      "\u001b[92m39 Checking humana alias humana\u001b[0m\n"
     ]
    },
    {
     "name": "stderr",
     "output_type": "stream",
     "text": [
      "js: Failed to set referrer policy: The value 'same-origin' is not one of 'no-referrer', 'no-referrer-when-downgrade', 'origin', 'origin-when-cross-origin', or 'unsafe-url'. The referrer policy has been left unchanged.\n"
     ]
    },
    {
     "name": "stdout",
     "output_type": "stream",
     "text": [
      "\u001b[92m40 Checking wells-fargo-bank alias wells-fargo-bank\u001b[0m\n"
     ]
    },
    {
     "name": "stderr",
     "output_type": "stream",
     "text": [
      "js: Failed to set referrer policy: The value 'same-origin' is not one of 'no-referrer', 'no-referrer-when-downgrade', 'origin', 'origin-when-cross-origin', or 'unsafe-url'. The referrer policy has been left unchanged.\n",
      "js: Uncaught SyntaxError: Unexpected token ...\n",
      "js: Uncaught SyntaxError: Unexpected token ...\n",
      "js: Uncaught SyntaxError: Unexpected token ...\n",
      "js: Uncaught SyntaxError: Unexpected token ...\n",
      "js: Uncaught SyntaxError: Unexpected token ...\n",
      "js: Uncaught SyntaxError: Unexpected token ...\n",
      "js: Uncaught SyntaxError: Unexpected token ...\n",
      "js: Uncaught SyntaxError: Unexpected token ...\n"
     ]
    },
    {
     "name": "stdout",
     "output_type": "stream",
     "text": [
      "No IPO status\n",
      "\u001b[92m41 Checking state-farm-insurance alias state-farm-insurance\u001b[0m\n"
     ]
    },
    {
     "name": "stderr",
     "output_type": "stream",
     "text": [
      "js: Failed to set referrer policy: The value 'same-origin' is not one of 'no-referrer', 'no-referrer-when-downgrade', 'origin', 'origin-when-cross-origin', or 'unsafe-url'. The referrer policy has been left unchanged.\n"
     ]
    },
    {
     "name": "stdout",
     "output_type": "stream",
     "text": [
      "\u001b[92m42 Checking pfizer alias pfizer\u001b[0m\n"
     ]
    },
    {
     "name": "stderr",
     "output_type": "stream",
     "text": [
      "js: Failed to set referrer policy: The value 'same-origin' is not one of 'no-referrer', 'no-referrer-when-downgrade', 'origin', 'origin-when-cross-origin', or 'unsafe-url'. The referrer policy has been left unchanged.\n"
     ]
    },
    {
     "name": "stdout",
     "output_type": "stream",
     "text": [
      "\u001b[92m43 Checking citigroup alias citigroup\u001b[0m\n"
     ]
    },
    {
     "name": "stderr",
     "output_type": "stream",
     "text": [
      "js: Failed to set referrer policy: The value 'same-origin' is not one of 'no-referrer', 'no-referrer-when-downgrade', 'origin', 'origin-when-cross-origin', or 'unsafe-url'. The referrer policy has been left unchanged.\n",
      "js: Uncaught SyntaxError: Unexpected token ...\n",
      "js: Uncaught SyntaxError: Unexpected token ...\n",
      "js: Uncaught SyntaxError: Unexpected token ...\n",
      "js: Uncaught SyntaxError: Unexpected token ...\n",
      "js: Uncaught SyntaxError: Unexpected token ...\n",
      "js: Uncaught SyntaxError: Unexpected token ...\n",
      "js: Uncaught SyntaxError: Unexpected token ...\n",
      "js: Uncaught SyntaxError: Unexpected token ...\n"
     ]
    },
    {
     "name": "stdout",
     "output_type": "stream",
     "text": [
      "No IPO status\n",
      "\u001b[92m44 Checking pepsico alias pepsico\u001b[0m\n"
     ]
    },
    {
     "name": "stderr",
     "output_type": "stream",
     "text": [
      "js: Failed to set referrer policy: The value 'same-origin' is not one of 'no-referrer', 'no-referrer-when-downgrade', 'origin', 'origin-when-cross-origin', or 'unsafe-url'. The referrer policy has been left unchanged.\n"
     ]
    },
    {
     "name": "stdout",
     "output_type": "stream",
     "text": [
      "\u001b[92m45 Checking intel alias intel\u001b[0m\n"
     ]
    },
    {
     "name": "stderr",
     "output_type": "stream",
     "text": [
      "js: Failed to set referrer policy: The value 'same-origin' is not one of 'no-referrer', 'no-referrer-when-downgrade', 'origin', 'origin-when-cross-origin', or 'unsafe-url'. The referrer policy has been left unchanged.\n"
     ]
    },
    {
     "name": "stdout",
     "output_type": "stream",
     "text": [
      "\u001b[92m46 Checking procter-and-gamble alias procter-and-gamble\u001b[0m\n"
     ]
    },
    {
     "name": "stderr",
     "output_type": "stream",
     "text": [
      "js: Failed to set referrer policy: The value 'same-origin' is not one of 'no-referrer', 'no-referrer-when-downgrade', 'origin', 'origin-when-cross-origin', or 'unsafe-url'. The referrer policy has been left unchanged.\n"
     ]
    },
    {
     "name": "stdout",
     "output_type": "stream",
     "text": [
      "\u001b[92m47 Checking general-electric alias general-electric\u001b[0m\n"
     ]
    },
    {
     "name": "stderr",
     "output_type": "stream",
     "text": [
      "js: Failed to set referrer policy: The value 'same-origin' is not one of 'no-referrer', 'no-referrer-when-downgrade', 'origin', 'origin-when-cross-origin', or 'unsafe-url'. The referrer policy has been left unchanged.\n"
     ]
    },
    {
     "name": "stdout",
     "output_type": "stream",
     "text": [
      "\u001b[92m48 Checking ibm alias ibm\u001b[0m\n"
     ]
    },
    {
     "name": "stderr",
     "output_type": "stream",
     "text": [
      "js: Failed to set referrer policy: The value 'same-origin' is not one of 'no-referrer', 'no-referrer-when-downgrade', 'origin', 'origin-when-cross-origin', or 'unsafe-url'. The referrer policy has been left unchanged.\n"
     ]
    },
    {
     "name": "stdout",
     "output_type": "stream",
     "text": [
      "\u001b[92m49 Checking metlife alias metlife\u001b[0m\n"
     ]
    },
    {
     "name": "stderr",
     "output_type": "stream",
     "text": [
      "js: Failed to set referrer policy: The value 'same-origin' is not one of 'no-referrer', 'no-referrer-when-downgrade', 'origin', 'origin-when-cross-origin', or 'unsafe-url'. The referrer policy has been left unchanged.\n"
     ]
    },
    {
     "name": "stdout",
     "output_type": "stream",
     "text": [
      "\u001b[92m50 Checking prudential-financial alias prudential-financial\u001b[0m\n"
     ]
    },
    {
     "name": "stderr",
     "output_type": "stream",
     "text": [
      "js: Failed to set referrer policy: The value 'same-origin' is not one of 'no-referrer', 'no-referrer-when-downgrade', 'origin', 'origin-when-cross-origin', or 'unsafe-url'. The referrer policy has been left unchanged.\n"
     ]
    },
    {
     "name": "stdout",
     "output_type": "stream",
     "text": [
      "\u001b[92m51 Checking albertson alias albertson\u001b[0m\n"
     ]
    },
    {
     "name": "stderr",
     "output_type": "stream",
     "text": [
      "js: Failed to set referrer policy: The value 'same-origin' is not one of 'no-referrer', 'no-referrer-when-downgrade', 'origin', 'origin-when-cross-origin', or 'unsafe-url'. The referrer policy has been left unchanged.\n"
     ]
    },
    {
     "name": "stdout",
     "output_type": "stream",
     "text": [
      "\u001b[92m52 Checking the-walt-disney-company alias the-walt-disney-company\u001b[0m\n"
     ]
    },
    {
     "name": "stderr",
     "output_type": "stream",
     "text": [
      "js: Failed to set referrer policy: The value 'same-origin' is not one of 'no-referrer', 'no-referrer-when-downgrade', 'origin', 'origin-when-cross-origin', or 'unsafe-url'. The referrer policy has been left unchanged.\n"
     ]
    },
    {
     "name": "stdout",
     "output_type": "stream",
     "text": [
      "\u001b[92m53 Checking energy-transfer-equity alias energy-transfer-equity\u001b[0m\n"
     ]
    },
    {
     "name": "stderr",
     "output_type": "stream",
     "text": [
      "js: Failed to set referrer policy: The value 'same-origin' is not one of 'no-referrer', 'no-referrer-when-downgrade', 'origin', 'origin-when-cross-origin', or 'unsafe-url'. The referrer policy has been left unchanged.\n"
     ]
    },
    {
     "name": "stdout",
     "output_type": "stream",
     "text": [
      "\u001b[92m54 Checking lockheed-martin alias lockheed-martin\u001b[0m\n"
     ]
    },
    {
     "name": "stderr",
     "output_type": "stream",
     "text": [
      "js: Failed to set referrer policy: The value 'same-origin' is not one of 'no-referrer', 'no-referrer-when-downgrade', 'origin', 'origin-when-cross-origin', or 'unsafe-url'. The referrer policy has been left unchanged.\n"
     ]
    },
    {
     "name": "stdout",
     "output_type": "stream",
     "text": [
      "\u001b[92m55 Checking freddie-mac alias freddie-mac\u001b[0m\n"
     ]
    },
    {
     "name": "stderr",
     "output_type": "stream",
     "text": [
      "js: Failed to set referrer policy: The value 'same-origin' is not one of 'no-referrer', 'no-referrer-when-downgrade', 'origin', 'origin-when-cross-origin', or 'unsafe-url'. The referrer policy has been left unchanged.\n"
     ]
    },
    {
     "name": "stdout",
     "output_type": "stream",
     "text": [
      "\u001b[92m56 Checking goldman-sachs alias goldman-sachs\u001b[0m\n"
     ]
    },
    {
     "name": "stderr",
     "output_type": "stream",
     "text": [
      "js: Failed to set referrer policy: The value 'same-origin' is not one of 'no-referrer', 'no-referrer-when-downgrade', 'origin', 'origin-when-cross-origin', or 'unsafe-url'. The referrer policy has been left unchanged.\n",
      "js: Uncaught SyntaxError: Unexpected token ...\n",
      "js: Uncaught SyntaxError: Unexpected token ...\n",
      "js: Uncaught SyntaxError: Unexpected token ...\n",
      "js: Uncaught SyntaxError: Unexpected token ...\n",
      "js: Uncaught SyntaxError: Unexpected token ...\n",
      "js: Uncaught SyntaxError: Unexpected token ...\n",
      "js: Uncaught SyntaxError: Unexpected token ...\n",
      "js: Uncaught SyntaxError: Unexpected token ...\n"
     ]
    },
    {
     "name": "stdout",
     "output_type": "stream",
     "text": [
      "No IPO status\n",
      "\u001b[92m57 Checking raytheon alias raytheon\u001b[0m\n"
     ]
    },
    {
     "name": "stderr",
     "output_type": "stream",
     "text": [
      "js: Failed to set referrer policy: The value 'same-origin' is not one of 'no-referrer', 'no-referrer-when-downgrade', 'origin', 'origin-when-cross-origin', or 'unsafe-url'. The referrer policy has been left unchanged.\n"
     ]
    }
   ],
   "source": [
    "BASE_URL = 'https://www.crunchbase.com'\n",
    "\n",
    "companies = []\n",
    "pages = []\n",
    "crunchbase = {}\n",
    "\n",
    "class Page(QWebEnginePage):\n",
    "    def __init__(self, url):\n",
    "        self.app = QApplication(sys.argv)\n",
    "        QWebEnginePage.__init__(self)\n",
    "        self.html = ''\n",
    "        self.loadFinished.connect(self._on_load_finished)\n",
    "        self.load(QUrl(url))\n",
    "        self.app.exec_()\n",
    "\n",
    "    def _on_load_finished(self):\n",
    "        self.html = self.toHtml(self.Callable)\n",
    "\n",
    "    def Callable(self, html_str):\n",
    "        self.html = html_str\n",
    "        self.app.quit()\n",
    "\n",
    "\n",
    "def get_page(route):\n",
    "    if not route:\n",
    "        return None\n",
    "\n",
    "    try:\n",
    "        url = f'{BASE_URL}{route}'\n",
    "        pages.append(Page(url))\n",
    "        soup = BeautifulSoup(pages[-1].html, 'lxml')\n",
    "        pages[-1].deleteLater()\n",
    "    except:\n",
    "        return None\n",
    "    else:\n",
    "        return soup\n",
    "\n",
    "\n",
    "def format_name(name):\n",
    "    return name.lower().replace('\\n', '').strip().replace('.', '-').replace(' ', '-').replace(':', '-')\n",
    "\n",
    "\n",
    "def extract_link(element):\n",
    "    return re.search(r'(https?:\\/\\/)(www\\.)?([a-zA-Z0-9]+(-?[a-zA-Z0-9])*\\.)+([a-z]{2,})(\\/\\S*)?', element).group(0)\n",
    "\n",
    "\n",
    "def print_green(s):\n",
    "    print(f'\\033[92m{s}\\033[0m')\n",
    "\n",
    "def company_info(i, soup):\n",
    "    company = {}\n",
    "    company['name'] = urls['company'][i]\n",
    "\n",
    "    # headquaters\n",
    "    try:\n",
    "        elem = soup.select('field-formatter > identifier-multi-formatter > span > a')\n",
    "        company['headquaters_location_city'] = elem[0].text.lstrip()\n",
    "        company['headquaters_location_state'] = elem[1].text.lstrip()\n",
    "        company['headquaters_location_country'] = elem[2].text.lstrip()\n",
    "    except:\n",
    "        print(\"No headquaters location\")\n",
    "        \n",
    "    \n",
    "    # Head quater reigions\n",
    "    elems = soup.select('ul > li > field-formatter > identifier-multi-formatter > span > a')\n",
    "    location = [elem.text.lstrip() for elem in elems if 'location_group_identifiers' in elem.get('href')]\n",
    "    company['headquaters_regions'] = location\n",
    "    \n",
    "    # Founders\n",
    "    founder = [elem.text.lstrip() for elem in elems if 'person' in elem.get('href')]\n",
    "    company['founder'] = founder\n",
    "    \n",
    "    # website link\n",
    "    try:\n",
    "        elem = soup.select('ul > li > label-with-icon > span > field-formatter > link-formatter > a')[0].get('href')\n",
    "        company['website_link'] = elem\n",
    "    except:\n",
    "        print(\"No website link\")\n",
    "\n",
    "    # Related Hubs \n",
    "    hub = [elem.text.lstrip() for elem in elems if 'hub' in elem.get('href')]\n",
    "    company['hub'] = hub\n",
    "\n",
    "    \n",
    "    # Last Funding Type\n",
    "    # Number of Exits\n",
    "    elems = soup.select('label-with-icon > span > field-formatter > a')\n",
    "    for elem in elems:\n",
    "        if 'num_employees_enum' in elem.get('href'):\n",
    "            company['num_employees_enum'] = elem.text.lstrip().rstrip()\n",
    "        if 'last_funding_type' in elem.get('href'):\n",
    "            company['last_funding_type'] = elem.text.lstrip().rstrip()\n",
    "        if 'rank_org_company' in elem.get('href'):\n",
    "            company['rank_org_company'] = elem.text.lstrip().rstrip()\n",
    "    \n",
    "    # IPO status\n",
    "    try:\n",
    "        elem = soup.select('label-with-icon > span > field-formatter > span')[0]\n",
    "        company['IPO_status'] = elem.text.lstrip()\n",
    "    except:\n",
    "        print(\"No IPO status\")\n",
    "        \n",
    "    # industries\n",
    "    elem = soup.select('field-formatter > identifier-multi-formatter > span > chips-container > a > *')\n",
    "    elems = [e.text.lstrip() for e in elem]\n",
    "    company['industries'] = elems\n",
    "\n",
    "    # Stock Symbol\n",
    "    try:\n",
    "        elem = soup.select('ul > li > field-formatter > link-formatter > a')[0]\n",
    "        company['stock_symbol'] = elem.text.lstrip()\n",
    "    except:\n",
    "        print(\"No stock symbol\")\n",
    "\n",
    "    \n",
    "    elems = soup.select('ul > li > field-formatter > span')\n",
    "    if len(elems) == 4:\n",
    "        company['founded_date'] = elems[0].text.lstrip() # Founded date\n",
    "        company['operating_status'] = elems[1].text.lstrip() # Operating Status Active\n",
    "        company['also_known_as'] = elems[2].text.lstrip() #Also Known As Amazon.com, Amazon.com, Inc.\n",
    "        company['company_type'] = elems[3].text.lstrip() # Company Type\n",
    "    elif len(elems) == 3:\n",
    "        company['founded_date'] = elems[0].text.lstrip() # Founded date\n",
    "        company['also_known_as'] = elems[1].text.lstrip() #Also Known As Amazon.com, Amazon.com, Inc.\n",
    "        company['company_type'] = elems[2].text.lstrip() # Company Type\n",
    "        \n",
    "    # Legal Name\n",
    "    try:\n",
    "        contact = soup.select('div > fields-card > ul > li > field-formatter > blob-formatter > span')[0].text.lstrip()\n",
    "        if len(contact) == 3:\n",
    "            company['legal_name'] = elems[0].text.lstrip()\n",
    "            company['contact_email'] = elems[1].text.lstrip()\n",
    "            company['contact_phone'] = elems[2].text.lstrip()\n",
    "        elif len(contact) == 2:\n",
    "            company['legal_name'] = elems[0].text.lstrip()\n",
    "            company['contact_phone'] = elems[1].text.lstrip()\n",
    "    except:\n",
    "            print(\"No contact information\")\n",
    "        \n",
    "    \n",
    "    # Last Funding Type\n",
    "    # Number of Exits\n",
    "    elems = soup.select('ul > li > field-formatter > a')\n",
    "    for elem in elems:\n",
    "        if 'last_funding_type' in elem.get('href'):\n",
    "            company['last_funding_type'] = elem.text.lstrip().rstrip()\n",
    "        if 'num_exits' in elem.get('href'):\n",
    "            company['number_of_exits'] = elem.text.lstrip().rstrip()\n",
    "\n",
    "    # description\n",
    "    elem = soup.select('body > chrome > div > mat-sidenav-container > mat-sidenav-content > div > ng-component > entity-v2 > page-layout > div > div > div > div > page-centered-layout > div > div > div.main-content > row-card:nth-child(2) > profile-section > section-card > mat-card > div.section-content-wrapper > div > description-card > div > *')\n",
    "    elems = [e.text.lstrip() for e in elem]\n",
    "    company['description'] = ' '.join(elems)\n",
    "\n",
    "    return company\n",
    "\n",
    "def scrape_data(idx, company_name):\n",
    "    name = format_name(company_name)\n",
    "\n",
    "    print_green(f'{idx} Checking {company_name} alias {name}')\n",
    "\n",
    "    # load the page in \"soup\" variable\n",
    "    soup = get_page(f'/organization/{name}')\n",
    "    if not soup:\n",
    "        print_green(\n",
    "            f'{company_name}, alias {name} gave an error while loading')\n",
    "        with open('../data/error.csv', 'a') as file:\n",
    "            file.write('\\n' + company_name)\n",
    "        return\n",
    "\n",
    "    company = company_info(idx, soup)\n",
    "    crunchbase[urls['company'][idx]] = company\n",
    "\n",
    "    \n",
    "def saveFile(start, end, cruchbase):\n",
    "    filePath = './data/'\n",
    "    fileNameCSV = 'crunchbase_%03d_%03d.csv'%(start,end)\n",
    "    pd.DataFrame.from_records(crunchbase).to_csv(filePath+fileNameCSV, index=True)\n",
    "\n",
    "    fileNameJSON = 'crunchbase_%03d_%03d.json'%(start,end)\n",
    "    with open(filePath+fileNameJSON, 'w') as fp:\n",
    "        json.dump(crunchbase, fp, indent=2)\n",
    "    \n",
    "\n",
    "for index in range(0,501, 250):\n",
    "    start = index\n",
    "    end = index + 250\n",
    "    companies = list(urls['crunch_url'][start:end])\n",
    "    for idx, company in enumerate(companies):\n",
    "        time.sleep(5)        \n",
    "        scrape_data(idx+start, company)\n",
    "        \n",
    "    saveFile(start, end, crunchbase)\n",
    "    time.sleep(30)"
   ]
  },
  {
   "cell_type": "code",
   "execution_count": null,
   "id": "66ed0668",
   "metadata": {},
   "outputs": [],
   "source": [
    "print(\"end\")"
   ]
  },
  {
   "cell_type": "code",
   "execution_count": null,
   "id": "60c3eb9c",
   "metadata": {},
   "outputs": [],
   "source": []
  }
 ],
 "metadata": {
  "kernelspec": {
   "display_name": "Python 3 (ipykernel)",
   "language": "python",
   "name": "python3"
  },
  "language_info": {
   "codemirror_mode": {
    "name": "ipython",
    "version": 3
   },
   "file_extension": ".py",
   "mimetype": "text/x-python",
   "name": "python",
   "nbconvert_exporter": "python",
   "pygments_lexer": "ipython3",
   "version": "3.9.12"
  }
 },
 "nbformat": 4,
 "nbformat_minor": 5
}
